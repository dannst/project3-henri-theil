{
 "cells": [
  {
   "cell_type": "code",
   "execution_count": 1,
   "metadata": {},
   "outputs": [
    {
     "name": "stdout",
     "output_type": "stream",
     "text": [
      "Requirement already up-to-date: CFEDemands in /home/dan/anaconda3/lib/python3.8/site-packages (0.2.7)\n",
      "Requirement already satisfied: xarray in /home/dan/anaconda3/lib/python3.8/site-packages (0.17.0)\n",
      "Requirement already satisfied: numpy>=1.15 in /home/dan/anaconda3/lib/python3.8/site-packages (from xarray) (1.19.2)\n",
      "Requirement already satisfied: pandas>=0.25 in /home/dan/anaconda3/lib/python3.8/site-packages (from xarray) (1.1.3)\n",
      "Requirement already satisfied: setuptools>=40.4 in /home/dan/anaconda3/lib/python3.8/site-packages (from xarray) (56.0.0)\n",
      "Requirement already satisfied: pytz>=2017.2 in /home/dan/anaconda3/lib/python3.8/site-packages (from pandas>=0.25->xarray) (2020.1)\n",
      "Requirement already satisfied: python-dateutil>=2.7.3 in /home/dan/anaconda3/lib/python3.8/site-packages (from pandas>=0.25->xarray) (2.8.1)\n",
      "Requirement already satisfied: six>=1.5 in /home/dan/anaconda3/lib/python3.8/site-packages (from python-dateutil>=2.7.3->pandas>=0.25->xarray) (1.15.0)\n",
      "Requirement already up-to-date: oauth2client in /home/dan/anaconda3/lib/python3.8/site-packages (4.1.3)\n",
      "Requirement already satisfied, skipping upgrade: pyasn1>=0.1.7 in /home/dan/anaconda3/lib/python3.8/site-packages (from oauth2client) (0.4.8)\n",
      "Requirement already satisfied, skipping upgrade: pyasn1-modules>=0.0.5 in /home/dan/anaconda3/lib/python3.8/site-packages (from oauth2client) (0.2.8)\n",
      "Requirement already satisfied, skipping upgrade: rsa>=3.1.4 in /home/dan/anaconda3/lib/python3.8/site-packages (from oauth2client) (4.7)\n",
      "Requirement already satisfied, skipping upgrade: httplib2>=0.9.1 in /home/dan/anaconda3/lib/python3.8/site-packages (from oauth2client) (0.19.0)\n",
      "Requirement already satisfied, skipping upgrade: six>=1.6.1 in /home/dan/anaconda3/lib/python3.8/site-packages (from oauth2client) (1.15.0)\n",
      "Requirement already satisfied, skipping upgrade: pyparsing<3,>=2.4.2 in /home/dan/anaconda3/lib/python3.8/site-packages (from httplib2>=0.9.1->oauth2client) (2.4.7)\n",
      "Requirement already satisfied: Pint==0.16.1 in /home/dan/anaconda3/lib/python3.8/site-packages (from -r requirements.txt (line 4)) (0.16.1)\n",
      "Requirement already satisfied: gspread==3.6.0 in /home/dan/anaconda3/lib/python3.8/site-packages (from -r requirements.txt (line 7)) (3.6.0)\n",
      "Requirement already satisfied: numpy==1.19.2 in /home/dan/anaconda3/lib/python3.8/site-packages (from -r requirements.txt (line 10)) (1.19.2)\n",
      "Requirement already satisfied: oauth2client==4.1.3 in /home/dan/anaconda3/lib/python3.8/site-packages (from -r requirements.txt (line 13)) (4.1.3)\n",
      "Requirement already satisfied: pandas==1.1.3 in /home/dan/anaconda3/lib/python3.8/site-packages (from -r requirements.txt (line 17)) (1.1.3)\n",
      "Requirement already satisfied: requests==2.25.0 in /home/dan/anaconda3/lib/python3.8/site-packages (from -r requirements.txt (line 20)) (2.25.0)\n",
      "Requirement already satisfied: packaging in /home/dan/anaconda3/lib/python3.8/site-packages (from Pint==0.16.1->-r requirements.txt (line 4)) (20.9)\n",
      "Requirement already satisfied: google-auth-oauthlib>=0.4.1 in /home/dan/anaconda3/lib/python3.8/site-packages (from gspread==3.6.0->-r requirements.txt (line 7)) (0.4.2)\n",
      "Requirement already satisfied: google-auth>=1.12.0 in /home/dan/anaconda3/lib/python3.8/site-packages (from gspread==3.6.0->-r requirements.txt (line 7)) (1.24.0)\n",
      "Requirement already satisfied: rsa>=3.1.4 in /home/dan/anaconda3/lib/python3.8/site-packages (from oauth2client==4.1.3->-r requirements.txt (line 13)) (4.7)\n",
      "Requirement already satisfied: httplib2>=0.9.1 in /home/dan/anaconda3/lib/python3.8/site-packages (from oauth2client==4.1.3->-r requirements.txt (line 13)) (0.19.0)\n",
      "Requirement already satisfied: six>=1.6.1 in /home/dan/anaconda3/lib/python3.8/site-packages (from oauth2client==4.1.3->-r requirements.txt (line 13)) (1.15.0)\n",
      "Requirement already satisfied: pyasn1>=0.1.7 in /home/dan/anaconda3/lib/python3.8/site-packages (from oauth2client==4.1.3->-r requirements.txt (line 13)) (0.4.8)\n",
      "Requirement already satisfied: pyasn1-modules>=0.0.5 in /home/dan/anaconda3/lib/python3.8/site-packages (from oauth2client==4.1.3->-r requirements.txt (line 13)) (0.2.8)\n",
      "Requirement already satisfied: pytz>=2017.2 in /home/dan/anaconda3/lib/python3.8/site-packages (from pandas==1.1.3->-r requirements.txt (line 17)) (2020.1)\n",
      "Requirement already satisfied: python-dateutil>=2.7.3 in /home/dan/anaconda3/lib/python3.8/site-packages (from pandas==1.1.3->-r requirements.txt (line 17)) (2.8.1)\n",
      "Requirement already satisfied: idna<3,>=2.5 in /home/dan/anaconda3/lib/python3.8/site-packages (from requests==2.25.0->-r requirements.txt (line 20)) (2.10)\n",
      "Requirement already satisfied: chardet<4,>=3.0.2 in /home/dan/anaconda3/lib/python3.8/site-packages (from requests==2.25.0->-r requirements.txt (line 20)) (3.0.4)\n",
      "Requirement already satisfied: urllib3<1.27,>=1.21.1 in /home/dan/anaconda3/lib/python3.8/site-packages (from requests==2.25.0->-r requirements.txt (line 20)) (1.26.4)\n",
      "Requirement already satisfied: certifi>=2017.4.17 in /home/dan/anaconda3/lib/python3.8/site-packages (from requests==2.25.0->-r requirements.txt (line 20)) (2020.12.5)\n",
      "Requirement already satisfied: pyparsing>=2.0.2 in /home/dan/anaconda3/lib/python3.8/site-packages (from packaging->Pint==0.16.1->-r requirements.txt (line 4)) (2.4.7)\n",
      "Requirement already satisfied: requests-oauthlib>=0.7.0 in /home/dan/anaconda3/lib/python3.8/site-packages (from google-auth-oauthlib>=0.4.1->gspread==3.6.0->-r requirements.txt (line 7)) (1.3.0)\n",
      "Requirement already satisfied: setuptools>=40.3.0 in /home/dan/anaconda3/lib/python3.8/site-packages (from google-auth>=1.12.0->gspread==3.6.0->-r requirements.txt (line 7)) (56.0.0)\n",
      "Requirement already satisfied: cachetools<5.0,>=2.0.0 in /home/dan/anaconda3/lib/python3.8/site-packages (from google-auth>=1.12.0->gspread==3.6.0->-r requirements.txt (line 7)) (4.2.1)\n",
      "Requirement already satisfied: oauthlib>=3.0.0 in /home/dan/anaconda3/lib/python3.8/site-packages (from requests-oauthlib>=0.7.0->google-auth-oauthlib>=0.4.1->gspread==3.6.0->-r requirements.txt (line 7)) (3.1.0)\n"
     ]
    }
   ],
   "source": [
    "!pip install CFEDemands --upgrade\n",
    "!pip install xarray\n",
    "# !pip install dvc\n",
    "#!pip install dvc --ignore-installed\n",
    "!pip install --upgrade oauth2client\n",
    "!pip install -r requirements.txt"
   ]
  },
  {
   "cell_type": "code",
   "execution_count": 2,
   "metadata": {},
   "outputs": [],
   "source": [
    "import pandas as pd\n",
    "\n",
    "# set dataframes to show float values without exponential\n",
    "pd.set_option('display.float_format', lambda x: '%.3f' % x)"
   ]
  },
  {
   "cell_type": "markdown",
   "metadata": {},
   "source": [
    "## (#A) Estimate Demand System"
   ]
  },
  {
   "cell_type": "markdown",
   "metadata": {},
   "source": [
    "Estimate a system of demands for different kinds of food. Characterize how consumption varies with household need."
   ]
  },
  {
   "cell_type": "markdown",
   "metadata": {},
   "source": [
    "Retrieve data from google sheets using private keys:"
   ]
  },
  {
   "cell_type": "code",
   "execution_count": null,
   "metadata": {},
   "outputs": [
    {
     "name": "stdout",
     "output_type": "stream",
     "text": [
      "gpg: AES256 encrypted data\n",
      "gpg: encrypted with 1 passphrase\n"
     ]
    }
   ],
   "source": [
    "import pandas as pd\n",
    "import numpy as np\n",
    "from eep153_tools import read_sheets\n",
    "\n",
    "#Nigeria consumption (own production) dataset\n",
    "Nigeria_Data = '17L5cDhXRLNAckP3JvBLTLSYIguFqP2ebMvQLH96c0n4'\n",
    "\n",
    "#### Need private keys from json file (we're authenticating using \"service accounts\")\n",
    "!gpg --batch --passphrase \"noodle octopus\" -d ./students-9093fa174318.json.gpg > ./students-9093fa174318.json\n",
    "####\n",
    "\n",
    "# Add credentials if sheet not meant to be public\n",
    "exp_df = read_sheets(Nigeria_Data,sheet='Expenditures',json_creds='./students-9093fa174318.json')\n",
    "                 \n",
    "# Change 'ICRISAT' to key of your own sheet in Sheets, above\n",
    "household_df = read_sheets(Nigeria_Data,sheet=\"HH Characteristics\",json_creds='./students-9093fa174318.json')\n",
    "\n",
    "# # Assume a single market by setting m = 1 for all\n",
    "exp_df.insert(loc=2, column='m', value=1)\n",
    "household_df.insert(loc=2, column='m', value=1)\n",
    "\n",
    "household_df2 = household_df.copy().set_index(['t', 'j', 'm'])"
   ]
  },
  {
   "cell_type": "markdown",
   "metadata": {},
   "source": [
    "### Data Cleaning and filter data by our chosen population (below poverty line)"
   ]
  },
  {
   "cell_type": "code",
   "execution_count": null,
   "metadata": {},
   "outputs": [],
   "source": [
    "exp_df = exp_df.replace(0,np.nan) # Replace zeroes with np.nan\n",
    "\n",
    "#Convert all value types to float64\n",
    "for i in range(3, len(exp_df.columns)):\n",
    "    exp_df.iloc[:, i:] = exp_df.iloc[:, i:].astype('float64')\n",
    "    \n",
    "exp_df = exp_df.replace(0.0,np.nan) # Replace zeroes with np.nan"
   ]
  },
  {
   "cell_type": "markdown",
   "metadata": {},
   "source": [
    "#### Create total expenditure column and filter expenditure dataframe by our condition"
   ]
  },
  {
   "cell_type": "markdown",
   "metadata": {},
   "source": [
    "We create a new column 'Total expenditure' so we can filter households that have total food spendings under or at poverty line."
   ]
  },
  {
   "cell_type": "code",
   "execution_count": null,
   "metadata": {},
   "outputs": [],
   "source": [
    "exp_df['Total expenditure'] = exp_df.iloc[:, 3:].sum(axis=1)\n",
    "pd.DataFrame(exp_df['Total expenditure'])"
   ]
  },
  {
   "cell_type": "markdown",
   "metadata": {},
   "source": [
    "#### Poverty Line Dataframe (Households with food spendings under or equal to poverty line)"
   ]
  },
  {
   "cell_type": "code",
   "execution_count": null,
   "metadata": {},
   "outputs": [],
   "source": [
    "#87.8 thousand Naira food spending per year\n",
    "#1688.46 per week\n",
    "wk_poverty_line = 87800/52\n",
    "\n",
    "poverty_line_df = exp_df[exp_df['Total expenditure'] <= wk_poverty_line]\n",
    "poverty_line_df"
   ]
  },
  {
   "cell_type": "code",
   "execution_count": null,
   "metadata": {},
   "outputs": [],
   "source": [
    "#remove total expenditure column from calculation\n",
    "poverty_line_df = poverty_line_df.drop(columns=['Total expenditure']) \n",
    "# poverty_line_df.set_index(['j', 't', 'm'])\n",
    "poverty_line_df"
   ]
  },
  {
   "cell_type": "markdown",
   "metadata": {},
   "source": [
    "#### Filter household_df to include those only at or below poverty_line:"
   ]
  },
  {
   "cell_type": "code",
   "execution_count": null,
   "metadata": {},
   "outputs": [],
   "source": [
    "# filter households to those only at or below poverty line\n",
    "idx_selected_households = poverty_line_df.index.tolist()\n",
    "household_df = household_df[household_df.index.isin(idx_selected_households)]\n",
    "household_df"
   ]
  },
  {
   "cell_type": "markdown",
   "metadata": {},
   "source": [
    "#### Logged Food Expenditure Dataframe (after running np.log on values)"
   ]
  },
  {
   "cell_type": "code",
   "execution_count": null,
   "metadata": {},
   "outputs": [],
   "source": [
    "# Take logs of expenditures of our selected population and name it log_poverty_line_df\n",
    "log_poverty_line_df = np.log(poverty_line_df.set_index(['j', 't', 'm']))\n",
    "log_poverty_line_df"
   ]
  },
  {
   "cell_type": "markdown",
   "metadata": {},
   "source": [
    "#### Add 'log Hsize' column to household_df:"
   ]
  },
  {
   "cell_type": "code",
   "execution_count": null,
   "metadata": {},
   "outputs": [],
   "source": [
    "# set index to j, t, m so that df.sum() ignore index values\n",
    "household_df.set_index(['j','t','m'], inplace=True)\n",
    "\n",
    "# create new column of household size\n",
    "household_df['Hsize'] = household_df.sum(axis=1).values\n",
    "\n",
    "# remove erroneous data with household_size = 0\n",
    "household_df = household_df[household_df['Hsize'] > 0]\n",
    "\n",
    "# create new column 'log Hsize'\n",
    "household_df['log Hsize'] = np.log(household_df['Hsize'])\n",
    "\n",
    "# remove Hsize column\n",
    "household_df = household_df.drop(columns=['Hsize']) "
   ]
  },
  {
   "cell_type": "markdown",
   "metadata": {},
   "source": [
    "#### Household Characteristic Table (Only includes households at/below poverty line)"
   ]
  },
  {
   "cell_type": "code",
   "execution_count": null,
   "metadata": {},
   "outputs": [],
   "source": [
    "household_df"
   ]
  },
  {
   "cell_type": "markdown",
   "metadata": {},
   "source": [
    "### Estimation\n",
    "\n"
   ]
  },
  {
   "cell_type": "markdown",
   "metadata": {},
   "source": [
    "With nothing more than this, we can estimate the demand system.  This\n",
    "happens in two steps.  The first is the &ldquo;reduced form&rdquo; step:\n",
    "\n"
   ]
  },
  {
   "cell_type": "code",
   "execution_count": null,
   "metadata": {},
   "outputs": [],
   "source": [
    "import cfe\n",
    "\n",
    "#regressand y is food expenditures (np.logged) by our selected population\n",
    "#regressor z is household demographics\n",
    "\n",
    "result = cfe.Result(y=log_poverty_line_df,z=household_df, min_xproducts=15, min_proportion_items=0.05)"
   ]
  },
  {
   "cell_type": "markdown",
   "metadata": {},
   "source": [
    "This creates a complicated &ldquo;Result&rdquo; object, with lots of different\n",
    "attributes.  Note from below that attributes $y$ and $z$ are now defined.\n",
    "\n"
   ]
  },
  {
   "cell_type": "code",
   "execution_count": null,
   "metadata": {},
   "outputs": [],
   "source": [
    "result"
   ]
  },
  {
   "cell_type": "code",
   "execution_count": null,
   "metadata": {},
   "outputs": [],
   "source": [
    "# result.get_loglambdas(as_df=True).quantile(0.8)"
   ]
  },
  {
   "cell_type": "markdown",
   "metadata": {},
   "source": [
    "### First step of Estimation\n",
    "\n"
   ]
  },
  {
   "cell_type": "markdown",
   "metadata": {},
   "source": [
    "Recall that there are two steps to estimation; the first step\n",
    "involves estimating the &ldquo;reduced form&rdquo; linear regression \n",
    "$$\n",
    "y_{it}^j = {a}_{it} + \\delta_i'{z}^j_t + \\epsilon_{it}^j.\n",
    "$$\n",
    "\n",
    "The Result class has code to estimate this in one line:\n",
    "\n"
   ]
  },
  {
   "cell_type": "code",
   "execution_count": null,
   "metadata": {},
   "outputs": [],
   "source": [
    "result.get_reduced_form()"
   ]
  },
  {
   "cell_type": "markdown",
   "metadata": {},
   "source": [
    "After running this we can examine the estimated coefficients $\\delta$:\n",
    "\n"
   ]
  },
  {
   "cell_type": "code",
   "execution_count": null,
   "metadata": {},
   "outputs": [],
   "source": [
    "result.delta.to_dataframe().unstack('k')"
   ]
  },
  {
   "cell_type": "markdown",
   "metadata": {},
   "source": [
    "Also the good-time constants $a_{it}$ (this captures the effects of prices)<br>\n",
    "i.e. differences in year and alpha coefficient\n"
   ]
  },
  {
   "cell_type": "code",
   "execution_count": null,
   "metadata": {},
   "outputs": [],
   "source": [
    "result.a.to_dataframe().unstack('i')"
   ]
  },
  {
   "cell_type": "markdown",
   "metadata": {},
   "source": [
    "### Second step of Estimation\n",
    "\n"
   ]
  },
  {
   "cell_type": "markdown",
   "metadata": {},
   "source": [
    "The second step involves using Singular Value Decomposition to find\n",
    "the rank one matrix that best approximates the residuals $e_{it}^j$.\n",
    "This can be interpreted as\n",
    "$$\n",
    "    -\\beta_i\\log\\lambda^j_t,\n",
    "$$\n",
    "where the $\\log\\lambda^j_t$ is the log of the marginal utility of\n",
    "expenditures (MUE) for household $j$ at time $t$, and where $\\beta_i$ are\n",
    "the corresponding &ldquo;Frisch elasticities&rdquo; that tell us how much\n",
    "demand changes as the MUE falls.\n",
    "\n",
    "Estimates can also be computed as a one-liner:\n",
    "\n"
   ]
  },
  {
   "cell_type": "code",
   "execution_count": null,
   "metadata": {},
   "outputs": [],
   "source": [
    "result.get_beta(as_df=True)"
   ]
  },
  {
   "cell_type": "markdown",
   "metadata": {},
   "source": [
    "That&rsquo;s all there is to estimation!  Note that we didn&rsquo;t estimate\n",
    "demands for all goods&#x2014;lots of goods didn&rsquo;t have enough observations,\n",
    "and were automatically dropped.  (This can be controlled using the\n",
    "`min_proportion_items` and `min_xproducts` attributes when one\n",
    "instantiates the result object.)\n",
    "\n"
   ]
  },
  {
   "cell_type": "markdown",
   "metadata": {},
   "source": [
    "### Assessment of Fit\n",
    "\n"
   ]
  },
  {
   "cell_type": "markdown",
   "metadata": {},
   "source": [
    "Now, let&rsquo;s see how we did, by comparing total expenditures predicted by the\n",
    "model we&rsquo;ve estimated with actual total expenditures:\n",
    "\n"
   ]
  },
  {
   "cell_type": "code",
   "execution_count": null,
   "metadata": {},
   "outputs": [],
   "source": [
    "import matplotlib.pyplot as plt\n",
    "%matplotlib inline\n",
    "import matplotlib.cm as cm\n",
    "\n",
    "xbar = np.exp(result.y).sum(['m','i']).to_dataframe('xbar').replace(0,np.nan).squeeze()\n",
    "xhat = result.get_predicted_expenditures().sum(['m','i']).to_dataframe('xhat').replace(0,np.nan).squeeze()\n",
    "\n",
    "# Make dataframe of actual & predicted\n",
    "df = pd.DataFrame({'Actual':np.log(xbar),'Predicted':np.log(xhat)})\n",
    "\n",
    "df.plot.scatter(x='Predicted',y='Actual')\n",
    "\n",
    "# Add 45 degree line\n",
    "v = plt.axis()\n",
    "vmin = np.max([v[0],v[2]])\n",
    "vmax = np.max([v[1],v[3]])\n",
    "plt.plot([vmin,vmax],[vmin,vmax])"
   ]
  },
  {
   "cell_type": "markdown",
   "metadata": {},
   "source": [
    "## (B) Nutritional content of different foods"
   ]
  },
  {
   "cell_type": "markdown",
   "metadata": {},
   "source": [
    "For all the foods you're considering you'll need to be able to describe their nutritional content, in terms that allow you to compare with recommended daily allowances."
   ]
  },
  {
   "cell_type": "markdown",
   "metadata": {},
   "source": [
    "#### Load in Nigeria Consumption dataframe:"
   ]
  },
  {
   "cell_type": "code",
   "execution_count": null,
   "metadata": {},
   "outputs": [],
   "source": [
    "import pandas as pd\n",
    "import numpy as np\n",
    "from eep153_tools import read_sheets\n",
    "\n",
    "url = '1kG_fVBmj9EEF9LOwxN30HBxkQENOoWeQjVPYzMJe3b4'\n",
    "\n",
    "#### Need private keys from json file (we're authenticating using \"service accounts\")\n",
    "!gpg --batch --passphrase \"noodle octopus\" -d ./students-9093fa174318.json.gpg > ./students-9093fa174318.json\n",
    "####\n",
    "\n",
    "# Add credentials if sheet not meant to be public\n",
    "consumption_df = read_sheets(key=url ,sheet='Consumption',json_creds='./students-9093fa174318.json')\n",
    "\n",
    "# Consider consumption of only those in our selected households\n",
    "consumption_df.insert(loc=2, column='m', value=1)"
   ]
  },
  {
   "cell_type": "code",
   "execution_count": null,
   "metadata": {},
   "outputs": [],
   "source": [
    "selected_household_ids = exp_df.index.tolist()\n",
    "selected_household_ids"
   ]
  },
  {
   "cell_type": "code",
   "execution_count": null,
   "metadata": {},
   "outputs": [],
   "source": [
    "# remove erraneous column 'Canned'\n",
    "consumption_df = consumption_df.drop(columns=['Canned'])\n",
    "\n",
    "consumption_df = consumption_df[consumption_df.index.isin(selected_household_ids)]\n",
    "consumption_df"
   ]
  },
  {
   "cell_type": "markdown",
   "metadata": {},
   "source": [
    "#### Loading in fdc_codes from google sheets:"
   ]
  },
  {
   "cell_type": "code",
   "execution_count": null,
   "metadata": {},
   "outputs": [],
   "source": [
    "# File with private keys for relevant service account to authenticate\n",
    "# and access google spreadsheets\n",
    "!gpg --batch --passphrase \"casimir\" -d project3-key.json.gpg > project3-key.json\n",
    "\n",
    "serviceacct = {'project2-casimir-funk':'project3-key.json'}\n",
    "sheet_url = \"https://docs.google.com/spreadsheets/d/1O0nHroRtnzBKSZXVWlqdTLIX16n5gg8aVBPcTjvLFKo/edit#gid=0\"\n",
    "sheet_name = 'Codes'\n",
    "\n",
    "# Add credentials if sheet not meant to be public\n",
    "fdc_code_df = read_sheets(key=sheet_url, json_creds=serviceacct[\"project2-casimir-funk\"], sheet=sheet_name)\n",
    "fdc_code_df"
   ]
  },
  {
   "cell_type": "code",
   "execution_count": null,
   "metadata": {},
   "outputs": [],
   "source": [
    "#list of foods consumed:\n",
    "fdc_food_items = fdc_code_df['Food description'].tolist()\n",
    "fdc_food_items"
   ]
  },
  {
   "cell_type": "code",
   "execution_count": null,
   "metadata": {},
   "outputs": [],
   "source": [
    "#example: accessing fdc code from the dataframe\n",
    "f = fdc_food_items[29]\n",
    "fdc_id = int(fdc_code_df[fdc_code_df['Food description'] == f]['USDA FDC ID'].values[0])\n",
    "fdc_id"
   ]
  },
  {
   "cell_type": "code",
   "execution_count": null,
   "metadata": {},
   "outputs": [],
   "source": [
    "import fooddatacentral as fdc\n",
    "\n",
    "# API key for FDC\n",
    "apikey = \"V0mOAdVrSineT4d2VTMTJUNPAsBTnjzUAU6e6H6V\" # inIyO1begWSRqsYtxS7m6p09PSyq7Qiw7fxzV2qN\"\n",
    "\n",
    "\n",
    "# Query to fdc and get dataframe containing nutritional data of foods using their fdc_ids\n",
    "food_to_nutrients = {}\n",
    "for f in fdc_food_items:\n",
    "    fdc_id = fdc_code_df[fdc_code_df['Food description'] == f]['USDA FDC ID'].values[0]\n",
    "    if not np.isnan(fdc_id):\n",
    "        try:\n",
    "            fdc_id = int(fdc_id)\n",
    "            food_to_nutrients[f] = fdc.nutrients(apikey, fdc_id).Quantity\n",
    "        except AttributeError:\n",
    "            print(fdc_id)\n",
    "            pass\n",
    "#             warnings.warn(\"Couldn't find FDC Code %s for food %s.\" % (f, fdc_id))\n",
    "\n",
    "nutritional_df = pd.DataFrame(food_to_nutrients,dtype=float).fillna(0.0)\n",
    "nutritional_df"
   ]
  },
  {
   "cell_type": "markdown",
   "metadata": {},
   "source": [
    "## (B) Nutritional adequacy of diet"
   ]
  },
  {
   "cell_type": "markdown",
   "metadata": {},
   "source": [
    "Given the food actually consumed in your data, what can you say about the adequacy of the diets in the population you're studying? What proportion of households consume enough so that members will exceed dietary recommendations? What proportion do not?"
   ]
  },
  {
   "cell_type": "markdown",
   "metadata": {},
   "source": [
    "#### Dietary Reference Intakes Dataframe:"
   ]
  },
  {
   "cell_type": "code",
   "execution_count": null,
   "metadata": {},
   "outputs": [],
   "source": [
    "dri_df = pd.read_csv('./diet_minimums.csv').set_index('Nutrition').iloc[:,2:]\n",
    "dri_df"
   ]
  },
  {
   "cell_type": "markdown",
   "metadata": {},
   "source": [
    "### Data Cleaning: Convert consumption dataframe values to hectograms"
   ]
  },
  {
   "cell_type": "markdown",
   "metadata": {},
   "source": [
    "#### Get all unit types in the consumption dataframe:"
   ]
  },
  {
   "cell_type": "code",
   "execution_count": null,
   "metadata": {},
   "outputs": [],
   "source": [
    "# household_idx = index list of households\n",
    "consumption_df = consumption_df.set_index(['t', 'j', 'm'])\n",
    "household_idx = consumption_df.index"
   ]
  },
  {
   "cell_type": "code",
   "execution_count": null,
   "metadata": {},
   "outputs": [],
   "source": [
    "# returns consumption_df of a household, when given household index\n",
    "\n",
    "def get_h_consumption_df(idx):\n",
    "    # access consumption_df of a particular household\n",
    "    h_con = consumption_df.loc[idx]\n",
    "    h_con = h_con.fillna(0)\n",
    "    \n",
    "    #set index to food unit\n",
    "    h_con = h_con.set_index('u')\n",
    "    \n",
    "    #remove 0 values i.e. food not eaten by household\n",
    "    h_con = h_con.loc[:, h_con.sum(axis=0) != 0.0]\n",
    "    \n",
    "    return h_con"
   ]
  },
  {
   "cell_type": "code",
   "execution_count": null,
   "metadata": {},
   "outputs": [],
   "source": [
    "# returns unit type of a food item\n",
    "\n",
    "def get_unit(df, food):\n",
    "    unit_idx = df[food].to_numpy().nonzero()[0][0]\n",
    "    return df.index[unit_idx]"
   ]
  },
  {
   "cell_type": "code",
   "execution_count": null,
   "metadata": {},
   "outputs": [],
   "source": [
    "def add_units_to_set(h_df, unitset):\n",
    "    for col in h_df.columns:\n",
    "        unit = get_unit(h_df, col)\n",
    "        unitset.add(unit)\n",
    "\n",
    "unitset = set()\n",
    "\n",
    "for i in household_idx:\n",
    "    h_df = get_h_consumption_df(i)\n",
    "    add_units_to_set(h_df, unitset)\n",
    "\n",
    "unitset"
   ]
  },
  {
   "cell_type": "markdown",
   "metadata": {},
   "source": [
    "#### Create a dictionary which maps unit type to multiplier value in unit to hectogram conversion:\n",
    "i.e. dict['Kilograms'] = 10, since 1KG = 10 Hectogram"
   ]
  },
  {
   "cell_type": "code",
   "execution_count": null,
   "metadata": {},
   "outputs": [],
   "source": [
    "keys = list(unitset)\n",
    "values = [150, 200, 400, 30, 10, 50, 10, 500, 100, 80, 300, 0.1, 10, 10, 50, 150, 600, 80, 0.01, 0.01, 500, 250, 0.01]\n",
    "unit_map_dict = dict(zip(keys, values))\n",
    "unit_map_dict"
   ]
  },
  {
   "cell_type": "markdown",
   "metadata": {},
   "source": [
    "#### Convert consumption dataframe units to hectograms (hectograms_consumption_df):"
   ]
  },
  {
   "cell_type": "code",
   "execution_count": null,
   "metadata": {},
   "outputs": [],
   "source": [
    "hect_consumption_df = consumption_df.set_index('u', append=True)\n",
    "\n",
    "for i in hect_consumption_df.index:\n",
    "    k = unit_map_dict[i[3]] \n",
    "    hect_consumption_df.loc[i] *= k\n",
    "\n",
    "hect_consumption_df = hect_consumption_df.reset_index()\n",
    "hect_consumption_df = hect_consumption_df.set_index(['t', 'j', 'm'])\n",
    "\n",
    "# Rename all unit values to Hectogram\n",
    "hect_consumption_df['u'] = hect_consumption_df['u'].apply(lambda x: 'Hectograms')\n",
    "hect_consumption_df\n",
    "    \n",
    "hect_consumption_df"
   ]
  },
  {
   "cell_type": "code",
   "execution_count": null,
   "metadata": {},
   "outputs": [],
   "source": [
    "# function that returns household consumption when given df, and household idx\n",
    "\n",
    "def get_household_hecto_df(df, h_idx):\n",
    "    df = hect_consumption_df.loc[idx]\n",
    "    df = df.groupby(by=df.index, as_index=True).sum()\n",
    "    return df"
   ]
  },
  {
   "cell_type": "code",
   "execution_count": null,
   "metadata": {},
   "outputs": [],
   "source": [
    "# calls function to return consumption dataframe of household\n",
    "get_household_hecto_df(hect_consumption_df, household_idx[0])"
   ]
  },
  {
   "cell_type": "markdown",
   "metadata": {},
   "source": [
    "### Household adequacy of diet calculations"
   ]
  },
  {
   "cell_type": "markdown",
   "metadata": {},
   "source": [
    "#### Function to get the nutritional content of a certain food:"
   ]
  },
  {
   "cell_type": "code",
   "execution_count": null,
   "metadata": {},
   "outputs": [],
   "source": [
    "def get_nutri(food_name):\n",
    "    return nutritional_df[food_name]"
   ]
  },
  {
   "cell_type": "markdown",
   "metadata": {},
   "source": [
    "#### Function to get nutritional values based on total consumption of a particular household:"
   ]
  },
  {
   "cell_type": "code",
   "execution_count": null,
   "metadata": {},
   "outputs": [],
   "source": [
    "# takes in household index, and the list of nutritions to display\n",
    "\n",
    "def get_total_nutri_household_df(idx, nutritions):\n",
    "    h_hecto_df = get_household_hecto_df(hect_consumption_df, idx)\n",
    "    total = 0\n",
    "    for col in h_hecto_df.columns:\n",
    "        amount = h_hecto_df[col][0]\n",
    "        nutri = amount * get_nutri(col)\n",
    "        total += nutri\n",
    "    total = total[total.index.isin(nutritions)]\n",
    "    \n",
    "    # convert weekly data values to daily values\n",
    "    total = total / 7\n",
    "    total = total.rename('Total Nutritional Data for Household: ' + str(idx))\n",
    "    return pd.DataFrame(total)"
   ]
  },
  {
   "cell_type": "code",
   "execution_count": null,
   "metadata": {},
   "outputs": [],
   "source": [
    "# we are only concern with nutritions in dietary reference intakes\n",
    "nutritions = dri_df.index\n",
    "\n",
    "get_total_nutri_household_df(household_idx[0], nutritions)"
   ]
  },
  {
   "cell_type": "markdown",
   "metadata": {},
   "source": [
    "#### Function that returns household characteristics:"
   ]
  },
  {
   "cell_type": "code",
   "execution_count": null,
   "metadata": {},
   "outputs": [],
   "source": [
    "def get_household_char(idx):\n",
    "    return household_df2.loc[idx]"
   ]
  },
  {
   "cell_type": "markdown",
   "metadata": {},
   "source": [
    "#### Function that returns total dietary requirement of a selected household:"
   ]
  },
  {
   "cell_type": "code",
   "execution_count": null,
   "metadata": {},
   "outputs": [],
   "source": [
    "def get_dri_household_df(idx, dri_df):\n",
    "    # household characteristics\n",
    "    hc = household_df2.loc[idx]\n",
    "    \n",
    "    # loop through every age group and sum up their dri requirements\n",
    "    total = 0\n",
    "    for age_g in hc.index:\n",
    "        if age_g == 'M 0-3' or age_g == 'F 0-3':\n",
    "            total += dri_df['C 1-3'] * hc[age_g]\n",
    "        else:\n",
    "            total += dri_df[age_g] * hc[age_g]\n",
    "    total = total.rename('Total Dietary Req for Household: ' + str(idx))\n",
    "    return pd.DataFrame(total)"
   ]
  },
  {
   "cell_type": "code",
   "execution_count": null,
   "metadata": {},
   "outputs": [],
   "source": [
    "# use index of household\n",
    "idx = household_idx[0]\n",
    "\n",
    "get_household_char(idx)"
   ]
  },
  {
   "cell_type": "code",
   "execution_count": null,
   "metadata": {},
   "outputs": [],
   "source": [
    "get_dri_household_df(idx, dri_df)"
   ]
  },
  {
   "cell_type": "markdown",
   "metadata": {},
   "source": [
    "#### Compare if total nutrition consumed meets dietary requirement:"
   ]
  },
  {
   "cell_type": "code",
   "execution_count": null,
   "metadata": {},
   "outputs": [],
   "source": [
    "# example: 7th household \n",
    "\n",
    "a = get_total_nutri_household_df(household_idx[6], nutritions)\n",
    "b = get_dri_household_df(household_idx[6], dri_df)\n",
    "df = pd.concat([b, a], axis=1)\n",
    "df['Excess'] = df.iloc[:, 1] - df.iloc[:, 0] \n",
    "df"
   ]
  },
  {
   "cell_type": "code",
   "execution_count": null,
   "metadata": {},
   "outputs": [],
   "source": [
    "# check if all values under excess column is more than 0\n",
    "(df['Excess'].values > 0).all()"
   ]
  },
  {
   "cell_type": "markdown",
   "metadata": {},
   "source": [
    "#### Function that checks if a particular household meets all DRI requirements:"
   ]
  },
  {
   "cell_type": "code",
   "execution_count": null,
   "metadata": {},
   "outputs": [],
   "source": [
    "# Returns True if all values under 'Excess' column is positive, i.e. all req. met\n",
    "\n",
    "def check_dri_req(idx, nutritions, dri_df):\n",
    "    a = get_total_nutri_household_df(idx, nutritions)\n",
    "    b = get_dri_household_df(idx, dri_df)\n",
    "    df = pd.concat([b, a], axis=1)\n",
    "    df['Excess'] = df.iloc[:, 1] - df.iloc[:, 0] \n",
    "    return (df['Excess'].values > 0).all()"
   ]
  },
  {
   "cell_type": "code",
   "execution_count": null,
   "metadata": {},
   "outputs": [],
   "source": [
    "# check for 200th household\n",
    "check_dri_req(household_idx[199], nutritions, dri_df)"
   ]
  },
  {
   "cell_type": "markdown",
   "metadata": {},
   "source": [
    "#### Run the above function for all households"
   ]
  },
  {
   "cell_type": "code",
   "execution_count": null,
   "metadata": {},
   "outputs": [],
   "source": [
    "# create empty list\n",
    "households = []\n",
    "\n",
    "# add indices of households that meet requirements to empty list\n",
    "for ih in set(household_idx):\n",
    "    if check_dri_req(idx, nutritions, dri_df):\n",
    "        households.append(ih)"
   ]
  },
  {
   "cell_type": "markdown",
   "metadata": {},
   "source": [
    "#### Proportion of all households meeting DRI requirement:"
   ]
  },
  {
   "cell_type": "code",
   "execution_count": null,
   "metadata": {},
   "outputs": [],
   "source": [
    "num_of_h_met_req = len(households)\n",
    "total_num_h = len(set(household_idx))\n",
    "proportion = num_of_h_met_req / total_num_h\n",
    "proportion"
   ]
  },
  {
   "cell_type": "markdown",
   "metadata": {},
   "source": [
    "#### Proportion of poor households meeting DRI requirement:"
   ]
  },
  {
   "cell_type": "code",
   "execution_count": null,
   "metadata": {},
   "outputs": [],
   "source": [
    "# get indices of all poor households\n",
    "poor_households_idx = poverty_line_df.set_index(['t', 'j', 'm']).index\n",
    "\n",
    "# get indices of poor households with consumption data\n",
    "con_poor_households_idx = (consumption_df[consumption_df.index.isin(poor_households_idx)]).index"
   ]
  },
  {
   "cell_type": "code",
   "execution_count": null,
   "metadata": {},
   "outputs": [],
   "source": [
    "# create empty list\n",
    "poor_households = []\n",
    "\n",
    "# add indices of households that meet requirements to empty list\n",
    "for ip in set(con_poor_households_idx):\n",
    "    if check_dri_req(idx, nutritions, dri_df):\n",
    "        poor_households.append(ip)\n",
    "\n",
    "proportion = len(poor_households) / len(set(con_poor_households_idx))\n",
    "proportion"
   ]
  },
  {
   "cell_type": "code",
   "execution_count": null,
   "metadata": {},
   "outputs": [],
   "source": []
  }
 ],
 "metadata": {
  "kernelspec": {
   "display_name": "Python 3",
   "language": "python",
   "name": "python3"
  },
  "language_info": {
   "codemirror_mode": {
    "name": "ipython",
    "version": 3
   },
   "file_extension": ".py",
   "mimetype": "text/x-python",
   "name": "python",
   "nbconvert_exporter": "python",
   "pygments_lexer": "ipython3",
   "version": "3.8.5"
  },
  "org": null
 },
 "nbformat": 4,
 "nbformat_minor": 1
}
